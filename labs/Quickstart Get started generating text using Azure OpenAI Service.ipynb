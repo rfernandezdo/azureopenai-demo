{
 "cells": [
  {
   "cell_type": "markdown",
   "id": "9be8d641-a6c8-4557-8bb1-4d232b744d9a",
   "metadata": {},
   "source": [
    "# Quickstart: Get started generating text using Azure OpenAI Service"
   ]
  },
  {
   "cell_type": "markdown",
   "id": "592db9be-dfa3-489a-8c87-151fea0b147d",
   "metadata": {},
   "source": [
    "## Set Up"
   ]
  },
  {
   "cell_type": "markdown",
   "id": "e8c1e83a-ece6-4549-997e-0c3735912797",
   "metadata": {
    "tags": []
   },
   "source": [
    "### Python libraries"
   ]
  },
  {
   "cell_type": "code",
   "execution_count": null,
   "id": "1a0c3727-8262-4200-9be0-5e1083d438d2",
   "metadata": {},
   "outputs": [],
   "source": [
    "!virtualenv envgeneratetext"
   ]
  },
  {
   "cell_type": "code",
   "execution_count": null,
   "id": "6d6200ef-94e9-4498-9266-fae465481191",
   "metadata": {},
   "outputs": [],
   "source": [
    "!source envgeneratetext/bin/activate"
   ]
  },
  {
   "cell_type": "code",
   "execution_count": null,
   "id": "a837d0fc-0ebe-4030-a235-703b4bee8794",
   "metadata": {
    "tags": []
   },
   "outputs": [],
   "source": [
    "# Install Python libraries\n",
    "\n",
    "!pip install openai"
   ]
  },
  {
   "cell_type": "markdown",
   "id": "10af3f94-c9b2-4bd5-8de9-d45c7583e32f",
   "metadata": {},
   "source": [
    "### Environment variables"
   ]
  },
  {
   "cell_type": "code",
   "execution_count": null,
   "id": "8d9c70eb-7719-4b06-98f1-c3d79ada3bf3",
   "metadata": {
    "tags": []
   },
   "outputs": [],
   "source": [
    "%env AZURE_OPENAI_API_KEY=REPLACE_WITH_YOUR_KEY_VALUE_HERE"
   ]
  },
  {
   "cell_type": "code",
   "execution_count": null,
   "id": "73922b2e-1014-49fc-b170-4a3d2ef28104",
   "metadata": {
    "tags": []
   },
   "outputs": [],
   "source": [
    "%env AZURE_OPENAI_ENDPOINT=REPLACE_WITH_YOUR_ENDPOINT_HERE"
   ]
  },
  {
   "cell_type": "code",
   "execution_count": null,
   "id": "56d674a0-df6b-4667-9b7c-f1a422959b35",
   "metadata": {},
   "outputs": [],
   "source": [
    "%env AZURE_OPENAI_DEPLOYMENT=REPLACE_WITH_YOUR_DEPLOYMENT_NAME"
   ]
  },
  {
   "cell_type": "code",
   "execution_count": null,
   "id": "9df293e2-add2-4c38-8003-a872df742d3c",
   "metadata": {
    "tags": []
   },
   "outputs": [],
   "source": [
    "!echo $AZURE_OPENAI_API_KEY\n",
    "!echo $AZURE_OPENAI_ENDPOINT\n",
    "!echo $AZURE_OPENAI_DEPLOYMENT_NAME"
   ]
  },
  {
   "cell_type": "markdown",
   "id": "ff1f6ceb-d9bf-441e-b82d-f58e385b1100",
   "metadata": {
    "tags": []
   },
   "source": [
    "## Demo\n"
   ]
  },
  {
   "cell_type": "markdown",
   "id": "135527db-710d-4cf6-8e1e-608a8522f267",
   "metadata": {},
   "source": [
    "Create a new Python application"
   ]
  },
  {
   "cell_type": "code",
   "execution_count": null,
   "id": "10482f79-6efe-408a-98f4-186067ee685a",
   "metadata": {
    "tags": []
   },
   "outputs": [],
   "source": [
    "import os\n",
    "import requests\n",
    "import json\n",
    "import openai\n",
    "\n",
    "API_KEY = os.getenv(\"AZURE_OPENAI_API_KEY\") \n",
    "RESOURCE_ENDPOINT = os.getenv(\"AZURE_OPENAI_ENDPOINT\") \n",
    "DEPLOYMENT_NAME = os.getenv(\"AZURE_OPENAI_DEPLOYMENT_NAME\")\n",
    "\n",
    "openai.api_key = API_KEY\n",
    "openai.api_base = RESOURCE_ENDPOINT\n",
    "openai.api_type = 'azure'\n",
    "openai.api_version = '2022-12-01' # this may change in the future\n",
    "\n",
    "deployment_name = DEPLOYMENT_NAME #This will correspond to the custom name you chose for your deployment when you deployed a model. \n",
    "\n",
    "# Send a completion call to generate an answer\n",
    "print('Sending a test completion job')\n",
    "start_phrase = 'Write a tagline for an ice cream shop. '\n",
    "response = openai.Completion.create(engine=deployment_name, prompt=start_phrase, max_tokens=10)\n",
    "text = response['choices'][0]['text'].replace('\\n', '').replace(' .', '.').strip()\n",
    "print(start_phrase+text)"
   ]
  },
  {
   "cell_type": "code",
   "execution_count": null,
   "id": "76211959-e9a8-42b4-8066-2adc5a3d6e41",
   "metadata": {},
   "outputs": [],
   "source": []
  }
 ],
 "metadata": {
  "kernelspec": {
   "display_name": "Python 3 (ipykernel)",
   "language": "python",
   "name": "python3"
  },
  "language_info": {
   "codemirror_mode": {
    "name": "ipython",
    "version": 3
   },
   "file_extension": ".py",
   "mimetype": "text/x-python",
   "name": "python",
   "nbconvert_exporter": "python",
   "pygments_lexer": "ipython3",
   "version": "3.10.6"
  }
 },
 "nbformat": 4,
 "nbformat_minor": 5
}
